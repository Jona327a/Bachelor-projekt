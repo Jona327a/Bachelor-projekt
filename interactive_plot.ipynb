{
 "cells": [
  {
   "cell_type": "code",
   "execution_count": 9,
   "id": "1176d6d6",
   "metadata": {},
   "outputs": [],
   "source": [
    "%matplotlib inline\n",
    "import matplotlib.patches as mpatches\n",
    "from ipywidgets import *\n",
    "import matplotlib.pyplot as plt\n",
    "import import_ipynb\n",
    "from interactive_plot_code import interactive_cp\n",
    "import matplotlib as mpl"
   ]
  },
  {
   "cell_type": "code",
   "execution_count": 10,
   "id": "49a9d38c",
   "metadata": {},
   "outputs": [],
   "source": [
    "plt.rcParams['figure.figsize'] = (4, 3)\n",
    "plt.rcParams['figure.dpi'] = 170\n",
    "mpl.rc('xtick', labelsize = 6) \n",
    "mpl.rc('ytick', labelsize = 6)\n",
    "plt.rcParams.update({'font.size': 6})"
   ]
  },
  {
   "cell_type": "code",
   "execution_count": 11,
   "id": "ca55e0a0",
   "metadata": {},
   "outputs": [
    {
     "data": {
      "application/vnd.jupyter.widget-view+json": {
       "model_id": "d01b81152e874d6996e9d3b10ef70429",
       "version_major": 2,
       "version_minor": 0
      },
      "text/plain": [
       "interactive(children=(FloatSlider(value=0.25, description='rate_1', max=0.5, step=0.02), FloatSlider(value=0.8…"
      ]
     },
     "metadata": {},
     "output_type": "display_data"
    }
   ],
   "source": [
    "interact(interactive_cp, rate_1 = (0.0, 0.5, 0.02), rate_2 = (0.0, 1.7, 0.02), rate_3 = (0.0, 3.0, 0.02), reg_beløb_1 = (0.0, 77100.0, 500.0), reg_beløb_2 = (0.0, 240000.0, 500.0), bundfradrag = (0.0, 25700.0, 250.0), el_bundfradrag_1 = (147500.0, 170000.0, 500.0), el_fradrag_2 = (0.0, 1700.0, 250.0), indfasning = (0.0, 1.0, 0.1));\n"
   ]
  },
  {
   "cell_type": "code",
   "execution_count": null,
   "id": "b7d0bdd3",
   "metadata": {},
   "outputs": [],
   "source": []
  }
 ],
 "metadata": {
  "kernelspec": {
   "display_name": "Python 3 (ipykernel)",
   "language": "python",
   "name": "python3"
  },
  "language_info": {
   "codemirror_mode": {
    "name": "ipython",
    "version": 3
   },
   "file_extension": ".py",
   "mimetype": "text/x-python",
   "name": "python",
   "nbconvert_exporter": "python",
   "pygments_lexer": "ipython3",
   "version": "3.9.12"
  }
 },
 "nbformat": 4,
 "nbformat_minor": 5
}
