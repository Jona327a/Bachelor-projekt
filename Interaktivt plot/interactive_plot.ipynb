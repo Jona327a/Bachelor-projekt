{
 "cells": [
  {
   "cell_type": "markdown",
   "id": "67c7f0d4",
   "metadata": {},
   "source": [
    "# Interaktive plots af de estimerede valgsandsynligheder ud fra hver biltype"
   ]
  },
  {
   "cell_type": "markdown",
   "id": "1d15cab4",
   "metadata": {},
   "source": [
    "For Apple tryk: \"shift + enter\" for at køre en kodeboks\n",
    "\n",
    "For Windows tryk: \"ctrl + enter\" for at køre en kodeboks"
   ]
  },
  {
   "cell_type": "code",
   "execution_count": 2,
   "id": "94bb54f4",
   "metadata": {},
   "outputs": [
    {
     "name": "stdout",
     "output_type": "stream",
     "text": [
      "importing Jupyter notebook from interactive_plot_code.ipynb\n",
      "N: 15 forskellige årstal\n",
      "J: 186 alternativer\n",
      "K: 5 variabler\n",
      "Variablerne: ['Prices (2015-DKK)', 'Weight (kg)', 'Engine effect (kW)', 'Size (m3)', 'Cost/km (DKK)'] \n",
      "\n",
      "Warning: Desired error not necessarily achieved due to precision loss.\n",
      "         Current function value: 5.122799\n",
      "         Iterations: 32\n",
      "         Function evaluations: 222\n",
      "         Gradient evaluations: 37\n"
     ]
    }
   ],
   "source": [
    "# Importerer python-pakker og egen kode-filer\n",
    "%matplotlib inline\n",
    "import matplotlib.patches as mpatches\n",
    "from ipywidgets import *\n",
    "import matplotlib.pyplot as plt\n",
    "import import_ipynb\n",
    "from interactive_plot_code import interactive_el_cp, interactive_benzin_cp, interactive_diesel_cp, interactive_cp\n",
    "import matplotlib as mpl"
   ]
  },
  {
   "cell_type": "code",
   "execution_count": null,
   "id": "49a9d38c",
   "metadata": {},
   "outputs": [],
   "source": [
    "# Indstiller størrelsen på plottene\n",
    "plt.rcParams['figure.figsize'] = (4, 3)\n",
    "plt.rcParams['figure.dpi'] = 170\n",
    "mpl.rc('xtick', labelsize = 6) \n",
    "mpl.rc('ytick', labelsize = 6)\n",
    "plt.rcParams.update({'font.size': 6})"
   ]
  },
  {
   "cell_type": "markdown",
   "id": "8246197c",
   "metadata": {},
   "source": [
    "## Interaktivt plot for elbilerne"
   ]
  },
  {
   "cell_type": "code",
   "execution_count": null,
   "id": "e1c630a9",
   "metadata": {},
   "outputs": [],
   "source": [
    "interact(interactive_el_cp, rate_1 = (0.0, 0.5, 0.01), rate_2 = (0.0, 1.7, 0.01), rate_3 = (0.0, 3.0, 0.01), reg_beløb_1 = (0.0, 77100.0, 100.0), reg_beløb_2 = (0.0, 240000.0, 100.0), bundfradrag = (0.0, 25700.0, 100.0), el_bundfradrag_1 = (147500.0, 170000.0, 100.0), el_fradrag_2 = (0.0, 1700.0, 100.0), indfasning = (0.0, 1.0, 0.1));\n"
   ]
  },
  {
   "cell_type": "markdown",
   "id": "8bbcf45c",
   "metadata": {},
   "source": [
    "## Interaktivt plot for benzinbilerne"
   ]
  },
  {
   "cell_type": "code",
   "execution_count": null,
   "id": "e4971857",
   "metadata": {},
   "outputs": [],
   "source": [
    "interact(interactive_benzin_cp, rate_1 = (0.0, 0.5, 0.01), rate_2 = (0.0, 1.7, 0.01), rate_3 = (0.0, 3.0, 0.01), reg_beløb_1 = (0.0, 77100.0, 100.0), reg_beløb_2 = (0.0, 240000.0, 100.0), bundfradrag = (0.0, 25700.0, 100.0), el_bundfradrag_1 = (147500.0, 170000.0, 100.0), el_fradrag_2 = (0.0, 1700.0, 100.0), indfasning = (0.0, 1.0, 0.1));\n"
   ]
  },
  {
   "cell_type": "markdown",
   "id": "4e409efb",
   "metadata": {},
   "source": [
    "## Interaktivt plot for dieselbilerne"
   ]
  },
  {
   "cell_type": "code",
   "execution_count": null,
   "id": "ca55e0a0",
   "metadata": {},
   "outputs": [],
   "source": [
    "interact(interactive_diesel_cp, rate_1 = (0.0, 0.5, 0.01), rate_2 = (0.0, 1.7, 0.01), rate_3 = (0.0, 3.0, 0.01), reg_beløb_1 = (0.0, 77100.0, 100.0), reg_beløb_2 = (0.0, 240000.0, 100.0), bundfradrag = (0.0, 25700.0, 100.0), el_bundfradrag_1 = (147500.0, 170000.0, 100.0), el_fradrag_2 = (0.0, 1700.0, 100.0), indfasning = (0.0, 1.0, 0.1));\n"
   ]
  },
  {
   "cell_type": "markdown",
   "id": "e6c1c6ef",
   "metadata": {},
   "source": [
    "## Interaktivt plot for alle biltyper"
   ]
  },
  {
   "cell_type": "code",
   "execution_count": null,
   "id": "b7d0bdd3",
   "metadata": {},
   "outputs": [],
   "source": [
    "interact(interactive_cp, rate_1 = (0.0, 0.5, 0.01), rate_2 = (0.0, 1.7, 0.01), rate_3 = (0.0, 3.0, 0.01), reg_beløb_1 = (0.0, 77100.0, 100.0), reg_beløb_2 = (0.0, 240000.0, 100.0), bundfradrag = (0.0, 25700.0, 100.0), el_bundfradrag_1 = (147500.0, 170000.0, 100.0), el_fradrag_2 = (0.0, 1700.0, 100.0), indfasning = (0.0, 1.0, 0.1));\n"
   ]
  },
  {
   "cell_type": "code",
   "execution_count": null,
   "id": "ddf32c27",
   "metadata": {},
   "outputs": [],
   "source": []
  }
 ],
 "metadata": {
  "kernelspec": {
   "display_name": "Python 3 (ipykernel)",
   "language": "python",
   "name": "python3"
  },
  "language_info": {
   "codemirror_mode": {
    "name": "ipython",
    "version": 3
   },
   "file_extension": ".py",
   "mimetype": "text/x-python",
   "name": "python",
   "nbconvert_exporter": "python",
   "pygments_lexer": "ipython3",
   "version": "3.9.12"
  }
 },
 "nbformat": 4,
 "nbformat_minor": 5
}
