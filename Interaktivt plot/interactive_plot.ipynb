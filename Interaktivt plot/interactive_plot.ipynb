{
 "cells": [
  {
   "cell_type": "markdown",
   "id": "67c7f0d4",
   "metadata": {},
   "source": [
    "# Interaktive plots\n",
    "For at se alt vores bagvedliggende kode, skal man trykke på mappe-ikonet til venstre. Der er følgende filer:\n",
    "- afgiftspligtig_værdi.py: udregner den afgiftspligtige værdi (ved hjælp af filen: WhatIfAnalysis.py) og udregner også nye bilpriser hvis der pålægges en ny registreringsafgift ud fra den afgiftspligtige værdi\n",
    "- clogit_estimation: anvendes til at estimere koefficienterne (ved hjælp af filen: estimation.py og logit.py) fra conditional logit modellen\n",
    "- logit.py: anvendes til at udregne valgsandsynligheden\n",
    "\n",
    "Bemærk, det kan tage lidt tid (ca. 30 sek til 1 min) før graferne er eksekveret grundet de mange beregninger."
   ]
  },
  {
   "cell_type": "markdown",
   "id": "4f41eed6",
   "metadata": {},
   "source": [
    "### Definition af parametrene\n",
    "- Der tages rate_1 % af afgiftspligtig værdi op til reg_beløb_1 kr.\n",
    "- Der tages rate_2 % af afgiftspligtig værdi mellem reg_beløb_1 kr. og reg_beløb_2 kr.\t\n",
    "- Der tages rate_3 % af afgiftspligtig værdi over reg_beløb_2 kr.\t\n",
    "- bundfradrag: fradraget der gælder for alle biler\n",
    "- el_bundfradrag_1: ekstra bundfradrag kun for elbiler (nul-emission)\n",
    "- el_fradrag_2: batterikapacitetsfradrag (el_fradrag_2 kr. x batterikapacitet i kWh)\n",
    "- indfasning: hvor stor en andel af registreringsafgiften der skal pålægges elbilerne\n",
    "\n",
    "### For at køre en kodeboks\n",
    "- For Apple computer tryk: \"shift + enter\" \n",
    "- For Windows computer tryk: \"ctrl + enter\""
   ]
  },
  {
   "cell_type": "code",
   "execution_count": 1,
   "id": "94bb54f4",
   "metadata": {},
   "outputs": [
    {
     "name": "stdout",
     "output_type": "stream",
     "text": [
      "importing Jupyter notebook from interactive_plot_code.ipynb\n",
      "Warning: Desired error not necessarily achieved due to precision loss.\n",
      "         Current function value: 5.122799\n",
      "         Iterations: 32\n",
      "         Function evaluations: 222\n",
      "         Gradient evaluations: 37\n"
     ]
    },
    {
     "data": {
      "application/vnd.jupyter.widget-view+json": {
       "model_id": "fa053a81d0b8492690620a582c87d317",
       "version_major": 2,
       "version_minor": 0
      },
      "text/plain": [
       "interactive(children=(FloatSlider(value=0.25, description='rate_1', max=0.5, step=0.01), FloatSlider(value=0.8…"
      ]
     },
     "metadata": {},
     "output_type": "display_data"
    }
   ],
   "source": [
    "# Importerer python-pakker og egen kode-filer\n",
    "%matplotlib inline\n",
    "import matplotlib as mpl\n",
    "import matplotlib.patches as mpatches\n",
    "from ipywidgets import *\n",
    "import matplotlib.pyplot as plt\n",
    "import import_ipynb\n",
    "from interactive_plot_code import interactive_divided_cp, interactive_cp, interactive_skatteprovenu"
   ]
  },
  {
   "cell_type": "markdown",
   "id": "29b55e07",
   "metadata": {},
   "source": [
    "### Forudsagt efterspørgsel ud fra hver biltype"
   ]
  },
  {
   "cell_type": "code",
   "execution_count": 2,
   "id": "ddf32c27",
   "metadata": {},
   "outputs": [
    {
     "data": {
      "application/vnd.jupyter.widget-view+json": {
       "model_id": "6334aa55523a4cd3b1a98bf30bba3f4f",
       "version_major": 2,
       "version_minor": 0
      },
      "text/plain": [
       "interactive(children=(FloatSlider(value=0.25, description='rate_1', max=0.5, step=0.01), FloatSlider(value=0.8…"
      ]
     },
     "metadata": {},
     "output_type": "display_data"
    }
   ],
   "source": [
    "# Indstiller størrelsen på plottet\n",
    "plt.rcParams['figure.figsize'] = (8.5, 2.5)\n",
    "plt.rcParams['figure.dpi'] = 170\n",
    "mpl.rc('xtick', labelsize = 5) \n",
    "mpl.rc('ytick', labelsize = 5)\n",
    "plt.rcParams.update({'font.size': 5})\n",
    "\n",
    "interact(interactive_divided_cp, rate_1 = (0.0, 0.5, 0.01), rate_2 = (0.0, 1.7, 0.01), rate_3 = (0.0, 3.0, 0.01), reg_beløb_1 = (0.0, 77100.0, 100.0), reg_beløb_2 = (0.0, 240000.0, 100.0), bundfradrag = (0.0, 25700.0, 100.0), el_bundfradrag_1 = (137000.0, 170000.0, 100.0), el_fradrag_2 = (0.0, 1700.0, 100.0), indfasning = (0.0, 1.0, 0.1));\n"
   ]
  },
  {
   "cell_type": "markdown",
   "id": "beb6eb58",
   "metadata": {},
   "source": [
    "### Samlede forudsagt efterspørgsel"
   ]
  },
  {
   "cell_type": "code",
   "execution_count": 3,
   "id": "5df93989",
   "metadata": {},
   "outputs": [
    {
     "data": {
      "application/vnd.jupyter.widget-view+json": {
       "model_id": "13fd3dea6fe84293b0fd1352ee79df1e",
       "version_major": 2,
       "version_minor": 0
      },
      "text/plain": [
       "interactive(children=(FloatSlider(value=0.25, description='rate_1', max=0.5, step=0.01), FloatSlider(value=0.8…"
      ]
     },
     "metadata": {},
     "output_type": "display_data"
    }
   ],
   "source": [
    "# Indstiller størrelsen på plottet\n",
    "plt.rcParams['figure.figsize'] = (4, 3)\n",
    "plt.rcParams['figure.dpi'] = 170\n",
    "mpl.rc('xtick', labelsize = 6) \n",
    "mpl.rc('ytick', labelsize = 6)\n",
    "plt.rcParams.update({'font.size': 6})\n",
    "\n",
    "interact(interactive_cp, rate_1 = (0.0, 0.5, 0.01), rate_2 = (0.0, 1.7, 0.01), rate_3 = (0.0, 3.0, 0.01), reg_beløb_1 = (0.0, 77100.0, 100.0), reg_beløb_2 = (0.0, 240000.0, 100.0), bundfradrag = (0.0, 25700.0, 100.0), el_bundfradrag_1 = (137000.0, 170000.0, 100.0), el_fradrag_2 = (0.0, 1700.0, 100.0), indfasning = (0.0, 1.0, 0.1));\n"
   ]
  },
  {
   "cell_type": "markdown",
   "id": "fe4b660f",
   "metadata": {},
   "source": [
    "### Udviklingen i skatteprovenuet"
   ]
  },
  {
   "cell_type": "code",
   "execution_count": 5,
   "id": "f62b7b92",
   "metadata": {},
   "outputs": [
    {
     "data": {
      "application/vnd.jupyter.widget-view+json": {
       "model_id": "cf022511e3d64ef8b10439e99a03794c",
       "version_major": 2,
       "version_minor": 0
      },
      "text/plain": [
       "interactive(children=(FloatSlider(value=0.25, description='rate_1', max=0.5, step=0.01), FloatSlider(value=0.8…"
      ]
     },
     "metadata": {},
     "output_type": "display_data"
    }
   ],
   "source": [
    "# Indstiller størrelsen på plottet\n",
    "plt.rcParams['figure.figsize'] = (8.5, 2.5)\n",
    "plt.rcParams['figure.dpi'] = 170\n",
    "mpl.rc('xtick', labelsize = 5) \n",
    "mpl.rc('ytick', labelsize = 5)\n",
    "plt.rcParams.update({'font.size': 5})\n",
    "\n",
    "interact(interactive_skatteprovenu, rate_1 = (0.0, 0.5, 0.01), rate_2 = (0.0, 1.7, 0.01), rate_3 = (0.0, 3.0, 0.01), reg_beløb_1 = (0.0, 77100.0, 100.0), reg_beløb_2 = (0.0, 240000.0, 100.0), bundfradrag = (0.0, 25700.0, 100.0), el_bundfradrag_1 = (137000.0, 170000.0, 100.0), el_fradrag_2 = (0.0, 1700.0, 100.0), indfasning = (0.0, 1.0, 0.1));\n"
   ]
  },
  {
   "cell_type": "code",
   "execution_count": null,
   "id": "f0e36a5f",
   "metadata": {},
   "outputs": [],
   "source": []
  }
 ],
 "metadata": {
  "kernelspec": {
   "display_name": "Python 3 (ipykernel)",
   "language": "python",
   "name": "python3"
  },
  "language_info": {
   "codemirror_mode": {
    "name": "ipython",
    "version": 3
   },
   "file_extension": ".py",
   "mimetype": "text/x-python",
   "name": "python",
   "nbconvert_exporter": "python",
   "pygments_lexer": "ipython3",
   "version": "3.9.12"
  }
 },
 "nbformat": 4,
 "nbformat_minor": 5
}
