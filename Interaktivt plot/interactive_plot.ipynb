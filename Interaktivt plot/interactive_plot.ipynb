{
 "cells": [
  {
   "cell_type": "code",
   "execution_count": 402,
   "id": "c78e606d",
   "metadata": {},
   "outputs": [],
   "source": [
    "# Required Python Packages\n",
    "import pandas as pd\n",
    "import numpy as np\n",
    "from sklearn import metrics\n",
    "from sklearn.model_selection import train_test_split\n",
    "from sklearn.linear_model import LogisticRegression\n",
    "from numpy import mean\n",
    "from collections import Counter\n",
    "\n",
    "# Statsmodels libaries\n",
    "import statsmodels.api as sm"
   ]
  },
  {
   "cell_type": "code",
   "execution_count": 403,
   "id": "d5a8aee3",
   "metadata": {},
   "outputs": [],
   "source": [
    "import matplotlib as mpl\n",
    "import matplotlib.pyplot as plt"
   ]
  },
  {
   "cell_type": "code",
   "execution_count": 404,
   "id": "ecf532c8",
   "metadata": {},
   "outputs": [],
   "source": [
    "%matplotlib inline"
   ]
  },
  {
   "cell_type": "code",
   "execution_count": 405,
   "id": "4f95ec69",
   "metadata": {},
   "outputs": [],
   "source": [
    "# Plotting packages\n",
    "%matplotlib inline\n",
    "plt.rcParams['figure.figsize'] = (4, 2)\n",
    "plt.rcParams['figure.dpi'] = 150\n",
    "mpl.rc('xtick', labelsize = 6) \n",
    "mpl.rc('ytick', labelsize = 6)\n",
    "plt.rcParams.update({'font.size': 6})"
   ]
  },
  {
   "cell_type": "code",
   "execution_count": 406,
   "id": "8940b0d2",
   "metadata": {},
   "outputs": [],
   "source": [
    "from __future__ import print_function\n",
    "from ipywidgets import interact, interactive, fixed, interact_manual\n",
    "import ipywidgets as widgets"
   ]
  },
  {
   "cell_type": "code",
   "execution_count": 407,
   "id": "72d70b47",
   "metadata": {},
   "outputs": [
    {
     "data": {
      "text/html": [
       "<div>\n",
       "<style scoped>\n",
       "    .dataframe tbody tr th:only-of-type {\n",
       "        vertical-align: middle;\n",
       "    }\n",
       "\n",
       "    .dataframe tbody tr th {\n",
       "        vertical-align: top;\n",
       "    }\n",
       "\n",
       "    .dataframe thead th {\n",
       "        text-align: right;\n",
       "    }\n",
       "</style>\n",
       "<table border=\"1\" class=\"dataframe\">\n",
       "  <thead>\n",
       "    <tr style=\"text-align: right;\">\n",
       "      <th></th>\n",
       "      <th>Year</th>\n",
       "      <th>Shares</th>\n",
       "      <th>Fuel</th>\n",
       "      <th>Weight (kg)</th>\n",
       "      <th>Engine effect (kW)</th>\n",
       "      <th>Prices (2015-DKK)</th>\n",
       "      <th>key</th>\n",
       "    </tr>\n",
       "  </thead>\n",
       "  <tbody>\n",
       "    <tr>\n",
       "      <th>0</th>\n",
       "      <td>2006</td>\n",
       "      <td>0.002156</td>\n",
       "      <td>1</td>\n",
       "      <td>1820</td>\n",
       "      <td>108.0</td>\n",
       "      <td>403349.2991</td>\n",
       "      <td>toyota-avensis-2006-Benzin</td>\n",
       "    </tr>\n",
       "    <tr>\n",
       "      <th>1</th>\n",
       "      <td>2006</td>\n",
       "      <td>0.002137</td>\n",
       "      <td>2</td>\n",
       "      <td>2170</td>\n",
       "      <td>103.0</td>\n",
       "      <td>378504.6729</td>\n",
       "      <td>volkswagen-passat-2006-Diesel</td>\n",
       "    </tr>\n",
       "    <tr>\n",
       "      <th>2</th>\n",
       "      <td>2006</td>\n",
       "      <td>0.001795</td>\n",
       "      <td>1</td>\n",
       "      <td>1425</td>\n",
       "      <td>43.0</td>\n",
       "      <td>134344.6262</td>\n",
       "      <td>renault-clio-2006-Benzin</td>\n",
       "    </tr>\n",
       "    <tr>\n",
       "      <th>3</th>\n",
       "      <td>2006</td>\n",
       "      <td>0.001750</td>\n",
       "      <td>1</td>\n",
       "      <td>1475</td>\n",
       "      <td>68.0</td>\n",
       "      <td>163536.2150</td>\n",
       "      <td>suzuki-swift-2006-Benzin</td>\n",
       "    </tr>\n",
       "    <tr>\n",
       "      <th>4</th>\n",
       "      <td>2006</td>\n",
       "      <td>0.001487</td>\n",
       "      <td>1</td>\n",
       "      <td>1590</td>\n",
       "      <td>48.0</td>\n",
       "      <td>150287.3832</td>\n",
       "      <td>fiat-punto-2006-Benzin</td>\n",
       "    </tr>\n",
       "    <tr>\n",
       "      <th>...</th>\n",
       "      <td>...</td>\n",
       "      <td>...</td>\n",
       "      <td>...</td>\n",
       "      <td>...</td>\n",
       "      <td>...</td>\n",
       "      <td>...</td>\n",
       "      <td>...</td>\n",
       "    </tr>\n",
       "    <tr>\n",
       "      <th>3377</th>\n",
       "      <td>2020</td>\n",
       "      <td>0.000013</td>\n",
       "      <td>2</td>\n",
       "      <td>2850</td>\n",
       "      <td>210.0</td>\n",
       "      <td>977674.0812</td>\n",
       "      <td>volkswagen-touareg-2020-Diesel</td>\n",
       "    </tr>\n",
       "    <tr>\n",
       "      <th>3378</th>\n",
       "      <td>2020</td>\n",
       "      <td>0.000300</td>\n",
       "      <td>1</td>\n",
       "      <td>1930</td>\n",
       "      <td>110.0</td>\n",
       "      <td>303593.8104</td>\n",
       "      <td>volkswagen-golf-sportsvan-2020-Benzin</td>\n",
       "    </tr>\n",
       "    <tr>\n",
       "      <th>3379</th>\n",
       "      <td>2020</td>\n",
       "      <td>0.000136</td>\n",
       "      <td>0</td>\n",
       "      <td>1530</td>\n",
       "      <td>61.0</td>\n",
       "      <td>153689.5551</td>\n",
       "      <td>volkswagen-up-2020-El</td>\n",
       "    </tr>\n",
       "    <tr>\n",
       "      <th>3380</th>\n",
       "      <td>2020</td>\n",
       "      <td>0.001088</td>\n",
       "      <td>1</td>\n",
       "      <td>1760</td>\n",
       "      <td>85.0</td>\n",
       "      <td>263941.9729</td>\n",
       "      <td>volkswagen-t-cross-2020-Benzin</td>\n",
       "    </tr>\n",
       "    <tr>\n",
       "      <th>3381</th>\n",
       "      <td>2020</td>\n",
       "      <td>0.001209</td>\n",
       "      <td>1</td>\n",
       "      <td>1860</td>\n",
       "      <td>110.0</td>\n",
       "      <td>254948.7427</td>\n",
       "      <td>volkswagen-t-roc-2020-Benzin</td>\n",
       "    </tr>\n",
       "  </tbody>\n",
       "</table>\n",
       "<p>3382 rows × 7 columns</p>\n",
       "</div>"
      ],
      "text/plain": [
       "      Year    Shares  Fuel  Weight (kg)  Engine effect (kW)  \\\n",
       "0     2006  0.002156     1         1820               108.0   \n",
       "1     2006  0.002137     2         2170               103.0   \n",
       "2     2006  0.001795     1         1425                43.0   \n",
       "3     2006  0.001750     1         1475                68.0   \n",
       "4     2006  0.001487     1         1590                48.0   \n",
       "...    ...       ...   ...          ...                 ...   \n",
       "3377  2020  0.000013     2         2850               210.0   \n",
       "3378  2020  0.000300     1         1930               110.0   \n",
       "3379  2020  0.000136     0         1530                61.0   \n",
       "3380  2020  0.001088     1         1760                85.0   \n",
       "3381  2020  0.001209     1         1860               110.0   \n",
       "\n",
       "      Prices (2015-DKK)                                    key  \n",
       "0           403349.2991             toyota-avensis-2006-Benzin  \n",
       "1           378504.6729          volkswagen-passat-2006-Diesel  \n",
       "2           134344.6262               renault-clio-2006-Benzin  \n",
       "3           163536.2150               suzuki-swift-2006-Benzin  \n",
       "4           150287.3832                 fiat-punto-2006-Benzin  \n",
       "...                 ...                                    ...  \n",
       "3377        977674.0812         volkswagen-touareg-2020-Diesel  \n",
       "3378        303593.8104  volkswagen-golf-sportsvan-2020-Benzin  \n",
       "3379        153689.5551                  volkswagen-up-2020-El  \n",
       "3380        263941.9729         volkswagen-t-cross-2020-Benzin  \n",
       "3381        254948.7427           volkswagen-t-roc-2020-Benzin  \n",
       "\n",
       "[3382 rows x 7 columns]"
      ]
     },
     "execution_count": 407,
     "metadata": {},
     "output_type": "execute_result"
    }
   ],
   "source": [
    "path = \"/Users/frederikluneborgholmjeppesen/Documents/Universitetet/3. år/Bachelorprojektet/MotorRegisterData-main/\"\n",
    "choice_data_subset = pd.read_excel(path + 'choice_data_subset.xlsx')\n",
    "choice_data_subset['Fuel'].replace(['El', 'Benzin', 'Diesel'], [0, 1, 2], inplace = True)\n",
    "choice_data_subset"
   ]
  },
  {
   "cell_type": "code",
   "execution_count": 408,
   "id": "9d3097a9",
   "metadata": {},
   "outputs": [
    {
     "name": "stdout",
     "output_type": "stream",
     "text": [
      "Amount of cars divided in fuel:\n",
      " El = 84 , Benzin = 1770 , Diesel = 1528\n"
     ]
    }
   ],
   "source": [
    "print(\"Amount of cars divided in fuel:\\n\", \"El =\", Counter(y)[0], \", Benzin =\", Counter(y)[1], \", Diesel =\", Counter(y)[2])"
   ]
  },
  {
   "cell_type": "code",
   "execution_count": 413,
   "id": "4a647368",
   "metadata": {},
   "outputs": [
    {
     "data": {
      "application/vnd.jupyter.widget-view+json": {
       "model_id": "aec86be0727741e3879bdea1543db0b9",
       "version_major": 2,
       "version_minor": 0
      },
      "text/plain": [
       "interactive(children=(FloatSlider(value=0.0, description='tax', max=1.0), Output()), _dom_classes=('widget-int…"
      ]
     },
     "metadata": {},
     "output_type": "display_data"
    },
    {
     "data": {
      "text/plain": [
       "<function __main__.f(tax)>"
      ]
     },
     "execution_count": 413,
     "metadata": {},
     "output_type": "execute_result"
    },
    {
     "data": {
      "image/png": "[encoded data removed]",
      "text/plain": [
       "<Figure size 600x300 with 1 Axes>"
      ]
     },
     "metadata": {
      "needs_background": "light"
     },
     "output_type": "display_data"
    }
   ],
   "source": [
    "def f(tax):\n",
    "    X = choice_data_subset[['Weight (kg)', 'Engine effect (kW)', 'Prices (2015-DKK)']]\n",
    "    X = sm.add_constant(X)\n",
    "    X = X.astype(float)\n",
    "    \n",
    "    y = choice_data_subset.iloc[:, 2]\n",
    "    \n",
    "    tax_prices = (1 + tax) * X['Prices (2015-DKK)']\n",
    "    X['Prices (2015-DKK)'] = tax_prices\n",
    "    \n",
    "    #X_train, X_test, y_train, y_test = train_test_split(X, y, test_size = 0.70, random_state = 2)\n",
    "    model = LogisticRegression(multi_class = 'multinomial', solver = 'lbfgs', penalty = 'l2', C = 1.0)\n",
    "    model.fit(X, y)\n",
    "    y_predict_prob = model.predict_proba(X)\n",
    "    \n",
    "    cp_el = []\n",
    "    cp_benzin = []\n",
    "    cp_diesel = []\n",
    "    \n",
    "    for i, choice in enumerate(y):\n",
    "        if choice == 0:\n",
    "            cp_el.append(y_predict_prob[i, choice])\n",
    "        \n",
    "        elif choice == 1:\n",
    "            cp_benzin.append(y_predict_prob[i, choice])\n",
    "        \n",
    "        else:\n",
    "            cp_diesel.append(y_predict_prob[i, choice])\n",
    "    \n",
    "    choice_data_el_subset = choice_data_subset[['Year', 'Fuel']].set_index(['Fuel']).loc[0]\n",
    "    choice_data_el_subset = choice_data_el_subset.assign(cp_el = cp_el)\n",
    "    choice_data_el_subset = choice_data_el_subset.groupby('Year')['cp_el'].mean()\n",
    "    \n",
    "    choice_data_benzin_subset = choice_data_subset[['Year', 'Fuel']].set_index(['Fuel']).loc[1]\n",
    "    choice_data_benzin_subset = choice_data_benzin_subset.assign(cp_benzin = cp_benzin)\n",
    "    choice_data_benzin_subset = choice_data_benzin_subset.groupby('Year')['cp_benzin'].mean()\n",
    "    \n",
    "    choice_data_diesel_subset = choice_data_subset[['Year', 'Fuel']].set_index(['Fuel']).loc[2]\n",
    "    choice_data_diesel_subset = choice_data_diesel_subset.assign(cp_diesel = cp_diesel)\n",
    "    choice_data_diesel_subset = choice_data_diesel_subset.groupby('Year')['cp_diesel'].mean()\n",
    "    \n",
    "    years_el = choice_data_subset[['Year', 'Fuel']].set_index(['Fuel']).loc[0].drop_duplicates()\n",
    "    years_benzin = choice_data_subset[['Year', 'Fuel']].set_index(['Fuel']).loc[1].drop_duplicates()\n",
    "    years_diesel = choice_data_subset[['Year', 'Fuel']].set_index(['Fuel']).loc[2].drop_duplicates()\n",
    "\n",
    "    plt.plot(np.array(years_el), np.array(choice_data_el_subset), c = 'green', label =\"El\")\n",
    "    plt.plot(np.array(years_benzin), np.array(choice_data_benzin_subset), c = 'black', label =\"Benzin\")    \n",
    "    plt.plot(np.array(years_diesel), np.array(choice_data_diesel_subset), c = 'red', label =\"Diesel\")\n",
    "    \n",
    "    plt.ylim(0, 0.65)\n",
    "    plt.title('Mean Choice Probabilities for each car type')\n",
    "    plt.xlabel(\"Years\")\n",
    "    plt.ylabel(\"Mean CP\")\n",
    "    plt.legend(bbox_to_anchor = (1.23, 0.3), ncol = 1)\n",
    "        \n",
    "interact(f, tax = (0, 1, 0.10))"
   ]
  },
  {
   "cell_type": "code",
   "execution_count": null,
   "id": "ee46b2b7",
   "metadata": {},
   "outputs": [],
   "source": []
  },
  {
   "cell_type": "code",
   "execution_count": null,
   "id": "411cdbf7",
   "metadata": {},
   "outputs": [],
   "source": []
  }
 ],
 "metadata": {
  "kernelspec": {
   "display_name": "Python 3",
   "language": "python",
   "name": "python3"
  },
  "language_info": {
   "codemirror_mode": {
    "name": "ipython",
    "version": 3
   },
   "file_extension": ".py",
   "mimetype": "text/x-python",
   "name": "python",
   "nbconvert_exporter": "python",
   "pygments_lexer": "ipython3",
   "version": "3.9.1"
  }
 },
 "nbformat": 4,
 "nbformat_minor": 5
}
